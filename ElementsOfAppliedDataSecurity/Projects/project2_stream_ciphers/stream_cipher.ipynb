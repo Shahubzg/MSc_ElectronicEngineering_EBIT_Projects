{
 "cells": [
  {
   "cell_type": "markdown",
   "id": "cc0a74f5-83cf-4daa-b402-16a922347785",
   "metadata": {},
   "source": [
    "# Stream Ciphers"
   ]
  },
  {
   "cell_type": "code",
   "execution_count": null,
   "id": "fa27ce71",
   "metadata": {},
   "outputs": [],
   "source": [
    "from bits import Bits\n",
    "from lfsr import LFSR, berlekamp_massey\n",
    "from bitgenerator import AlternatingStep"
   ]
  },
  {
   "cell_type": "markdown",
   "id": "59b8bc34-7676-416e-9e95-73734d652a88",
   "metadata": {},
   "source": [
    "## LFSR"
   ]
  },
  {
   "cell_type": "markdown",
   "id": "cb7e3b26",
   "metadata": {},
   "source": [
    "## Berlekamp-Massey Algorithm"
   ]
  },
  {
   "cell_type": "code",
   "execution_count": null,
   "id": "5b58cb9a",
   "metadata": {},
   "outputs": [],
   "source": [
    "# Reading the binray file\n",
    "with open('binary_sequence.bin', 'rb') as f:\n",
    "    byte_data = f.read()\n",
    "\n",
    "# Turning to Bits\n",
    "bit_sequence = Bits(byte_data)\n",
    "\n",
    "# Runnning Berlekamp-Massey\n",
    "poly = berlekamp_massey(bit_sequence)\n",
    "\n",
    "# Printing the output\n",
    "print(\"Shortest feedback polynomial (degrees):\", poly)\n",
    "print(\"Linear complexity:\", max(poly))  # Linear Complexity is the bigest degree of the polynomial"
   ]
  },
  {
   "cell_type": "markdown",
   "id": "81332146",
   "metadata": {},
   "source": [
    "## Alternating Step Generator"
   ]
  },
  {
   "cell_type": "markdown",
   "id": "f02480ba",
   "metadata": {},
   "source": [
    "## KPA to LFSR"
   ]
  },
  {
   "cell_type": "code",
   "execution_count": null,
   "id": "494488d0",
   "metadata": {},
   "outputs": [],
   "source": [
    "# --- گام 1: لود داده‌ها ---\n",
    "with open('ciphertext.bin', 'rb') as f:\n",
    "    ciphertext_bytes = f.read()\n",
    "ciphertext_bits = Bits(ciphertext_bytes)\n",
    "\n",
    "with open('known-plaintext.txt', 'rb') as f:\n",
    "    known_plaintext_bytes = f.read()\n",
    "known_plaintext_bits = Bits(known_plaintext_bytes)\n",
    "\n",
    "# --- گام 2: محاسبه keystream اولیه ---\n",
    "initial_keystream = Bits(ciphertext_bits.bits[:len(known_plaintext_bits)]) ^ known_plaintext_bits\n",
    "\n",
    "# --- گام 3: پیدا کردن پلی‌نوم LFSR ---\n",
    "poly = berlekamp_massey(initial_keystream)\n",
    "\n",
    "# --- گام 4: بازسازی کامل keystream ---\n",
    "lfsr = LFSR(poly, initial_keystream[:max(poly)])\n",
    "full_keystream = lfsr.run_steps(len(ciphertext_bits))\n",
    "\n",
    "# --- گام 5: بازیابی plaintext ---\n",
    "recovered_bits = ciphertext_bits ^ full_keystream\n",
    "\n",
    "# --- گام 6: تبدیل به متن UTF-8 ---\n",
    "recovered_bytes = recovered_bits.to_bytes()\n",
    "recovered_text = recovered_bytes.decode('utf-8', errors='ignore')\n",
    "\n",
    "# --- چاپ خروجی ---\n",
    "print(\"Recovered Plaintext:\\n\", recovered_text)\n",
    "print(\"\\nRecovered LFSR Polynomial Degrees:\", sorted(poly, reverse=True))"
   ]
  },
  {
   "cell_type": "code",
   "execution_count": null,
   "id": "8fd269f3",
   "metadata": {},
   "outputs": [],
   "source": []
  }
 ],
 "metadata": {
  "kernelspec": {
   "display_name": "base",
   "language": "python",
   "name": "python3"
  },
  "language_info": {
   "codemirror_mode": {
    "name": "ipython",
    "version": 3
   },
   "file_extension": ".py",
   "mimetype": "text/x-python",
   "name": "python",
   "nbconvert_exporter": "python",
   "pygments_lexer": "ipython3",
   "version": "3.12.7"
  }
 },
 "nbformat": 4,
 "nbformat_minor": 5
}
