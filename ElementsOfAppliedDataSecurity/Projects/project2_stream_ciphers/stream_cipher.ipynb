{
 "cells": [
  {
   "cell_type": "markdown",
   "id": "cc0a74f5-83cf-4daa-b402-16a922347785",
   "metadata": {},
   "source": [
    "# Stream Ciphers"
   ]
  },
  {
   "cell_type": "code",
   "execution_count": 1,
   "id": "fa27ce71",
   "metadata": {},
   "outputs": [],
   "source": [
    "from bits import Bits\n",
    "from lfsr import LFSR, berlekamp_massey\n",
    "from bitgenerator import AlternatingStep"
   ]
  },
  {
   "cell_type": "markdown",
   "id": "59b8bc34-7676-416e-9e95-73734d652a88",
   "metadata": {},
   "source": [
    "## LFSR"
   ]
  },
  {
   "cell_type": "markdown",
   "id": "cb7e3b26",
   "metadata": {},
   "source": [
    "## Berlekamp-Massey Algorithm"
   ]
  },
  {
   "cell_type": "code",
   "execution_count": null,
   "id": "5b58cb9a",
   "metadata": {},
   "outputs": [
    {
     "name": "stdout",
     "output_type": "stream",
     "text": [
      "Shortest feedback polynomial (degrees): {0, 18, 11}\n",
      "Linear complexity: 18\n"
     ]
    }
   ],
   "source": [
    "from bits import Bits\n",
    "from lfsr import berlekamp_massey\n",
    "\n",
    "# Reading the binray file\n",
    "with open('binary_sequence.bin', 'rb') as f:\n",
    "    byte_data = f.read()\n",
    "\n",
    "# Turning to Bits\n",
    "bit_sequence = Bits(byte_data)\n",
    "\n",
    "# Runnning Berlekamp-Massey\n",
    "poly = berlekamp_massey(bit_sequence)\n",
    "\n",
    "# Printing the output\n",
    "print(\"Shortest feedback polynomial (degrees):\", poly)\n",
    "print(\"Linear complexity:\", max(poly))  # Linear Complexity is the bigest degree of the polynomial"
   ]
  },
  {
   "cell_type": "markdown",
   "id": "81332146",
   "metadata": {},
   "source": [
    "## Alternating Step Generator"
   ]
  }
 ],
 "metadata": {
  "kernelspec": {
   "display_name": "base",
   "language": "python",
   "name": "python3"
  },
  "language_info": {
   "codemirror_mode": {
    "name": "ipython",
    "version": 3
   },
   "file_extension": ".py",
   "mimetype": "text/x-python",
   "name": "python",
   "nbconvert_exporter": "python",
   "pygments_lexer": "ipython3",
   "version": "3.12.7"
  }
 },
 "nbformat": 4,
 "nbformat_minor": 5
}
